{
 "cells": [
  {
   "cell_type": "markdown",
   "metadata": {
    "id": "kSVfZafSy45a"
   },
   "source": [
    "**AI ASSIGNMENT-01**"
   ]
  },
  {
   "cell_type": "code",
   "execution_count": 1,
   "metadata": {
    "id": "soSqN4zqymZM"
   },
   "outputs": [],
   "source": [
    "import pandas as pd\n",
    "import numpy as np\n",
    "\n"
   ]
  },
  {
   "cell_type": "code",
   "execution_count": 2,
   "metadata": {
    "colab": {
     "base_uri": "https://localhost:8080/"
    },
    "id": "S7ri4ARDzS4a",
    "outputId": "26beec23-0565-4d13-bebe-d853a42abe4b"
   },
   "outputs": [
    {
     "name": "stdout",
     "output_type": "stream",
     "text": [
      "Task 1 - DataFrame:\n",
      "          0         1         2         3\n",
      "0  0.829276  0.603342  0.888216  0.708912\n",
      "1  0.244008  0.611676  0.348366  0.403652\n",
      "2  0.923990  0.040248  0.263978  0.420757\n",
      "3  0.185016  0.525235  0.289800  0.638697\n"
     ]
    }
   ],
   "source": [
    "# Task 1: Create a pandas dataframe with numpy random values\n",
    "data = np.random.rand(4, 4)\n",
    "df = pd.DataFrame(data)\n",
    "print(\"Task 1 - DataFrame:\")\n",
    "print(df)"
   ]
  },
  {
   "cell_type": "code",
   "execution_count": 3,
   "metadata": {
    "id": "T_7x7O_-zgZ-"
   },
   "outputs": [],
   "source": [
    "# Task 2: Rename the column names\n",
    "df.columns = ['Random value 1', 'Random value 2', 'Random value 3', 'Random value 4']\n"
   ]
  },
  {
   "cell_type": "code",
   "execution_count": 4,
   "metadata": {
    "colab": {
     "base_uri": "https://localhost:8080/"
    },
    "id": "j43yB_K-znfC",
    "outputId": "c9fe87d9-c292-4f93-ab66-06ee2623d91f"
   },
   "outputs": [
    {
     "name": "stdout",
     "output_type": "stream",
     "text": [
      "\n",
      "Task 2 - Renamed column names:\n",
      "Index(['Random value 1', 'Random value 2', 'Random value 3', 'Random value 4'], dtype='object')\n"
     ]
    }
   ],
   "source": [
    "print(\"\\nTask 2 - Renamed column names:\")\n",
    "print(df.columns)"
   ]
  },
  {
   "cell_type": "code",
   "execution_count": 5,
   "metadata": {
    "colab": {
     "base_uri": "https://localhost:8080/"
    },
    "id": "wiN5P19_ywoI",
    "outputId": "91e4903b-c649-403a-80eb-60962a721fae"
   },
   "outputs": [
    {
     "name": "stdout",
     "output_type": "stream",
     "text": [
      "   Random value 1  Random value 2  Random value 3  Random value 4\n",
      "0        0.829276        0.603342        0.888216        0.708912\n",
      "1        0.244008        0.611676        0.348366        0.403652\n",
      "2        0.923990        0.040248        0.263978        0.420757\n",
      "3        0.185016        0.525235        0.289800        0.638697\n"
     ]
    }
   ],
   "source": [
    "# output of the columns that are renamed.\n",
    "print(df)"
   ]
  },
  {
   "cell_type": "code",
   "execution_count": 6,
   "metadata": {
    "id": "E9Hl4LZ1ztkj"
   },
   "outputs": [],
   "source": [
    "# Task 3: Descriptive statistics\n",
    "statistics = df.describe(include='all')"
   ]
  },
  {
   "cell_type": "code",
   "execution_count": 7,
   "metadata": {
    "colab": {
     "base_uri": "https://localhost:8080/"
    },
    "id": "0qBsM2i9z1QN",
    "outputId": "c24cdf34-3521-43ab-df4f-8a1cc35eb912"
   },
   "outputs": [
    {
     "name": "stdout",
     "output_type": "stream",
     "text": [
      "\n",
      "Task 3 - Descriptive statistics:\n",
      "       Random value 1  Random value 2  Random value 3  Random value 4\n",
      "count        4.000000        4.000000        4.000000        4.000000\n",
      "mean         0.545573        0.445125        0.447590        0.543004\n",
      "std          0.384981        0.272711        0.295865        0.153889\n",
      "min          0.185016        0.040248        0.263978        0.403652\n",
      "25%          0.229260        0.403988        0.283345        0.416481\n",
      "50%          0.536642        0.564288        0.319083        0.529727\n",
      "75%          0.852955        0.605425        0.483328        0.656251\n",
      "max          0.923990        0.611676        0.888216        0.708912\n"
     ]
    }
   ],
   "source": [
    "print(\"\\nTask 3 - Descriptive statistics:\")\n",
    "print(statistics)"
   ]
  },
  {
   "cell_type": "code",
   "execution_count": 8,
   "metadata": {
    "colab": {
     "base_uri": "https://localhost:8080/"
    },
    "id": "6CvpIkv4z8n6",
    "outputId": "174ec9a6-fab5-4401-9d49-edb7d184beca",
    "scrolled": true
   },
   "outputs": [
    {
     "name": "stdout",
     "output_type": "stream",
     "text": [
      "\n",
      "Task 4 - Null values:\n",
      "Random value 1    0\n",
      "Random value 2    0\n",
      "Random value 3    0\n",
      "Random value 4    0\n",
      "dtype: int64\n"
     ]
    }
   ],
   "source": [
    "# Task 4: Check for null values \n",
    "null_values = df.isnull().sum()\n",
    "print(\"\\nTask 4 - Null values:\")\n",
    "print(null_values)\n",
    "\n"
   ]
  },
  {
   "cell_type": "code",
   "execution_count": 9,
   "metadata": {
    "colab": {
     "base_uri": "https://localhost:8080/"
    },
    "id": "5K53GjbnzVNX",
    "outputId": "fd237f56-8d22-48e2-c16e-221af1433a36"
   },
   "outputs": [
    {
     "name": "stdout",
     "output_type": "stream",
     "text": [
      "\n",
      "Task 4 - Data types:\n",
      "Random value 1    float64\n",
      "Random value 2    float64\n",
      "Random value 3    float64\n",
      "Random value 4    float64\n",
      "dtype: object\n"
     ]
    }
   ],
   "source": [
    "# Task 4: Check for data types\n",
    "data_types = df.dtypes\n",
    "print(\"\\nTask 4 - Data types:\")\n",
    "print(data_types)\n"
   ]
  },
  {
   "cell_type": "code",
   "execution_count": 10,
   "metadata": {
    "colab": {
     "base_uri": "https://localhost:8080/"
    },
    "id": "0Q1mKoql0CiQ",
    "outputId": "ea3252aa-f838-4896-f1c6-5436e05a9763"
   },
   "outputs": [
    {
     "name": "stdout",
     "output_type": "stream",
     "text": [
      "\n",
      "Task 5 - 'Random value 2' column using loc:\n",
      "0    0.603342\n",
      "1    0.611676\n",
      "2    0.040248\n",
      "3    0.525235\n",
      "Name: Random value 2, dtype: float64\n"
     ]
    }
   ],
   "source": [
    "# Task 5: Display columns using location \n",
    "random_value_2_loc = df.loc[:, 'Random value 2']\n",
    "print(\"\\nTask 5 - 'Random value 2' column using loc:\")\n",
    "print(random_value_2_loc)\n"
   ]
  },
  {
   "cell_type": "code",
   "execution_count": 11,
   "metadata": {
    "colab": {
     "base_uri": "https://localhost:8080/"
    },
    "id": "Ctiq0GHg0ow5",
    "outputId": "354e3d84-7b44-42d3-9192-169df3481d2a"
   },
   "outputs": [
    {
     "name": "stdout",
     "output_type": "stream",
     "text": [
      "\n",
      "Task 5 - 'Random value 2' column using iloc:\n",
      "0    0.603342\n",
      "1    0.611676\n",
      "2    0.040248\n",
      "3    0.525235\n",
      "Name: Random value 2, dtype: float64\n"
     ]
    }
   ],
   "source": [
    "random_value_2_iloc = df.iloc[:, 1]  # Assuming the column index for 'Random value 2' is 1\n",
    "print(\"\\nTask 5 - 'Random value 2' column using iloc:\")\n",
    "print(random_value_2_iloc)\n"
   ]
  },
  {
   "cell_type": "code",
   "execution_count": 12,
   "metadata": {
    "colab": {
     "base_uri": "https://localhost:8080/"
    },
    "id": "WL1am7r30oeQ",
    "outputId": "d52d6fc5-1a22-4887-b84d-dfa66b465147"
   },
   "outputs": [
    {
     "name": "stdout",
     "output_type": "stream",
     "text": [
      "\n",
      "Task 5 - 'Random value 3' column using loc:\n",
      "0    0.888216\n",
      "1    0.348366\n",
      "2    0.263978\n",
      "3    0.289800\n",
      "Name: Random value 3, dtype: float64\n"
     ]
    }
   ],
   "source": [
    "#Display columns using location \n",
    "random_value_3_loc = df.loc[:, 'Random value 3']\n",
    "print(\"\\nTask 5 - 'Random value 3' column using loc:\")\n",
    "print(random_value_3_loc)"
   ]
  },
  {
   "cell_type": "code",
   "execution_count": 13,
   "metadata": {
    "colab": {
     "base_uri": "https://localhost:8080/"
    },
    "id": "a2CCBGny0nzE",
    "outputId": "936c2fb3-b0a1-4c48-ca43-74e7bd2b750d"
   },
   "outputs": [
    {
     "name": "stdout",
     "output_type": "stream",
     "text": [
      "\n",
      "Task 5 - 'Random value 3' column using iloc:\n",
      "0    0.888216\n",
      "1    0.348366\n",
      "2    0.263978\n",
      "3    0.289800\n",
      "Name: Random value 3, dtype: float64\n"
     ]
    }
   ],
   "source": [
    "random_value_3_iloc = df.iloc[:, 2]  # Assuming the column index for 'Random value 3' is 2\n",
    "print(\"\\nTask 5 - 'Random value 3' column using iloc:\")\n",
    "print(random_value_3_iloc)\n"
   ]
  },
  {
   "cell_type": "code",
   "execution_count": null,
   "metadata": {},
   "outputs": [],
   "source": []
  },
  {
   "cell_type": "code",
   "execution_count": null,
   "metadata": {},
   "outputs": [],
   "source": []
  }
 ],
 "metadata": {
  "colab": {
   "provenance": []
  },
  "kernelspec": {
   "display_name": "Python 3 (ipykernel)",
   "language": "python",
   "name": "python3"
  },
  "language_info": {
   "codemirror_mode": {
    "name": "ipython",
    "version": 3
   },
   "file_extension": ".py",
   "mimetype": "text/x-python",
   "name": "python",
   "nbconvert_exporter": "python",
   "pygments_lexer": "ipython3",
   "version": "3.9.7"
  }
 },
 "nbformat": 4,
 "nbformat_minor": 1
}
